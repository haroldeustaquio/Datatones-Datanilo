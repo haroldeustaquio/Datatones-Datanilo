{
 "cells": [
  {
   "cell_type": "markdown",
   "metadata": {},
   "source": [
    "### Importing libraries"
   ]
  },
  {
   "cell_type": "code",
   "execution_count": 157,
   "metadata": {},
   "outputs": [
    {
     "name": "stderr",
     "output_type": "stream",
     "text": [
      "[nltk_data] Downloading package stopwords to\n",
      "[nltk_data]     C:\\Users\\Usuario\\AppData\\Roaming\\nltk_data...\n",
      "[nltk_data]   Package stopwords is already up-to-date!\n"
     ]
    }
   ],
   "source": [
    "import pandas as pd\n",
    "from sklearn.feature_extraction.text import CountVectorizer\n",
    "import string\n",
    "import nltk\n",
    "from nltk.corpus import stopwords\n",
    "import emoji\n",
    "import re\n",
    "\n",
    "nltk.download('stopwords')\n",
    "stop_words = set(stopwords.words('spanish'))"
   ]
  },
  {
   "cell_type": "markdown",
   "metadata": {},
   "source": [
    "### Loading datasets"
   ]
  },
  {
   "cell_type": "code",
   "execution_count": 158,
   "metadata": {},
   "outputs": [],
   "source": [
    "df_1 = pd.read_csv('data/db_AGP_2019_sucesos.csv')\n",
    "df_2 = pd.read_csv('data/postID_suceso.csv')"
   ]
  },
  {
   "cell_type": "markdown",
   "metadata": {},
   "source": [
    "### Exploring dataset"
   ]
  },
  {
   "cell_type": "code",
   "execution_count": 159,
   "metadata": {},
   "outputs": [
    {
     "data": {
      "text/html": [
       "<div>\n",
       "<style scoped>\n",
       "    .dataframe tbody tr th:only-of-type {\n",
       "        vertical-align: middle;\n",
       "    }\n",
       "\n",
       "    .dataframe tbody tr th {\n",
       "        vertical-align: top;\n",
       "    }\n",
       "\n",
       "    .dataframe thead th {\n",
       "        text-align: right;\n",
       "    }\n",
       "</style>\n",
       "<table border=\"1\" class=\"dataframe\">\n",
       "  <thead>\n",
       "    <tr style=\"text-align: right;\">\n",
       "      <th></th>\n",
       "      <th>created_time.1</th>\n",
       "      <th>created_time.2</th>\n",
       "      <th>message</th>\n",
       "      <th>id</th>\n",
       "      <th>object_link.connections.comments.message</th>\n",
       "      <th>FECHA Y HORA</th>\n",
       "    </tr>\n",
       "  </thead>\n",
       "  <tbody>\n",
       "    <tr>\n",
       "      <th>0</th>\n",
       "      <td>viernes, 19 de abril de 2019</td>\n",
       "      <td>30/12/1899 09:16:15</td>\n",
       "      <td>Velorio del ex presidente Alan García en la Ca...</td>\n",
       "      <td>71263708835_377868469727477</td>\n",
       "      <td>🧐🧐</td>\n",
       "      <td>19/04/2019 9:16</td>\n",
       "    </tr>\n",
       "    <tr>\n",
       "      <th>1</th>\n",
       "      <td>jueves, 18 de abril de 2019</td>\n",
       "      <td>30/12/1899 20:57:16</td>\n",
       "      <td>Exequias del ex presidente Alan García en \"La ...</td>\n",
       "      <td>71263708835_276236269920595</td>\n",
       "      <td>🥺🥺🥺🥺🥺🥺🥺🥺</td>\n",
       "      <td>18/04/2019 20:57</td>\n",
       "    </tr>\n",
       "    <tr>\n",
       "      <th>2</th>\n",
       "      <td>miércoles, 17 de abril de 2019</td>\n",
       "      <td>30/12/1899 07:37:30</td>\n",
       "      <td>🚨 Estamos en los exteriores del Hospital de Em...</td>\n",
       "      <td>71263708835_310239669653341</td>\n",
       "      <td>🥳</td>\n",
       "      <td>17/04/2019 7:37</td>\n",
       "    </tr>\n",
       "    <tr>\n",
       "      <th>3</th>\n",
       "      <td>viernes, 19 de abril de 2019</td>\n",
       "      <td>30/12/1899 09:16:15</td>\n",
       "      <td>Velorio del ex presidente Alan García en la Ca...</td>\n",
       "      <td>71263708835_377868469727477</td>\n",
       "      <td>🤷‍♀️🤷‍♀️🤷‍♀️</td>\n",
       "      <td>19/04/2019 9:16</td>\n",
       "    </tr>\n",
       "    <tr>\n",
       "      <th>4</th>\n",
       "      <td>viernes, 19 de abril de 2019</td>\n",
       "      <td>30/12/1899 09:16:15</td>\n",
       "      <td>Velorio del ex presidente Alan García en la Ca...</td>\n",
       "      <td>71263708835_377868469727477</td>\n",
       "      <td>🤯🤯🤯🤯</td>\n",
       "      <td>19/04/2019 9:16</td>\n",
       "    </tr>\n",
       "  </tbody>\n",
       "</table>\n",
       "</div>"
      ],
      "text/plain": [
       "                   created_time.1       created_time.2  \\\n",
       "0    viernes, 19 de abril de 2019  30/12/1899 09:16:15   \n",
       "1     jueves, 18 de abril de 2019  30/12/1899 20:57:16   \n",
       "2  miércoles, 17 de abril de 2019  30/12/1899 07:37:30   \n",
       "3    viernes, 19 de abril de 2019  30/12/1899 09:16:15   \n",
       "4    viernes, 19 de abril de 2019  30/12/1899 09:16:15   \n",
       "\n",
       "                                             message  \\\n",
       "0  Velorio del ex presidente Alan García en la Ca...   \n",
       "1  Exequias del ex presidente Alan García en \"La ...   \n",
       "2  🚨 Estamos en los exteriores del Hospital de Em...   \n",
       "3  Velorio del ex presidente Alan García en la Ca...   \n",
       "4  Velorio del ex presidente Alan García en la Ca...   \n",
       "\n",
       "                            id object_link.connections.comments.message  \\\n",
       "0  71263708835_377868469727477                                       🧐🧐   \n",
       "1  71263708835_276236269920595                                 🥺🥺🥺🥺🥺🥺🥺🥺   \n",
       "2  71263708835_310239669653341                                        🥳   \n",
       "3  71263708835_377868469727477                             🤷‍♀️🤷‍♀️🤷‍♀️   \n",
       "4  71263708835_377868469727477                                     🤯🤯🤯🤯   \n",
       "\n",
       "       FECHA Y HORA  \n",
       "0   19/04/2019 9:16  \n",
       "1  18/04/2019 20:57  \n",
       "2   17/04/2019 7:37  \n",
       "3   19/04/2019 9:16  \n",
       "4   19/04/2019 9:16  "
      ]
     },
     "execution_count": 159,
     "metadata": {},
     "output_type": "execute_result"
    }
   ],
   "source": [
    "df_1.head()"
   ]
  },
  {
   "cell_type": "code",
   "execution_count": 160,
   "metadata": {},
   "outputs": [
    {
     "name": "stdout",
     "output_type": "stream",
     "text": [
      "<class 'pandas.core.frame.DataFrame'>\n",
      "RangeIndex: 55006 entries, 0 to 55005\n",
      "Data columns (total 6 columns):\n",
      " #   Column                                    Non-Null Count  Dtype \n",
      "---  ------                                    --------------  ----- \n",
      " 0   created_time.1                            55006 non-null  object\n",
      " 1   created_time.2                            55006 non-null  object\n",
      " 2   message                                   55006 non-null  object\n",
      " 3   id                                        55006 non-null  object\n",
      " 4   object_link.connections.comments.message  55006 non-null  object\n",
      " 5   FECHA Y HORA                              55006 non-null  object\n",
      "dtypes: object(6)\n",
      "memory usage: 2.5+ MB\n"
     ]
    }
   ],
   "source": [
    "df_1.info()"
   ]
  },
  {
   "cell_type": "code",
   "execution_count": 161,
   "metadata": {},
   "outputs": [
    {
     "data": {
      "text/html": [
       "<div>\n",
       "<style scoped>\n",
       "    .dataframe tbody tr th:only-of-type {\n",
       "        vertical-align: middle;\n",
       "    }\n",
       "\n",
       "    .dataframe tbody tr th {\n",
       "        vertical-align: top;\n",
       "    }\n",
       "\n",
       "    .dataframe thead th {\n",
       "        text-align: right;\n",
       "    }\n",
       "</style>\n",
       "<table border=\"1\" class=\"dataframe\">\n",
       "  <thead>\n",
       "    <tr style=\"text-align: right;\">\n",
       "      <th></th>\n",
       "      <th>POST NRO</th>\n",
       "      <th>SUCESO</th>\n",
       "    </tr>\n",
       "  </thead>\n",
       "  <tbody>\n",
       "    <tr>\n",
       "      <th>0</th>\n",
       "      <td>71263708835_310239669653341</td>\n",
       "      <td>Traslado a la Clinica</td>\n",
       "    </tr>\n",
       "    <tr>\n",
       "      <th>1</th>\n",
       "      <td>71263708835_10157689377373836</td>\n",
       "      <td>Confirmación de Intento de Suicidio</td>\n",
       "    </tr>\n",
       "    <tr>\n",
       "      <th>2</th>\n",
       "      <td>71263708835_2430897753596693</td>\n",
       "      <td>Confirmación de Intento de Suicidio</td>\n",
       "    </tr>\n",
       "    <tr>\n",
       "      <th>3</th>\n",
       "      <td>71263708835_10157689601593836</td>\n",
       "      <td>Confirmación de Intento de Suicidio</td>\n",
       "    </tr>\n",
       "    <tr>\n",
       "      <th>4</th>\n",
       "      <td>71263708835_426911824739777</td>\n",
       "      <td>Confirmación de Intento de Suicidio</td>\n",
       "    </tr>\n",
       "  </tbody>\n",
       "</table>\n",
       "</div>"
      ],
      "text/plain": [
       "                        POST NRO                               SUCESO\n",
       "0    71263708835_310239669653341                Traslado a la Clinica\n",
       "1  71263708835_10157689377373836  Confirmación de Intento de Suicidio\n",
       "2   71263708835_2430897753596693  Confirmación de Intento de Suicidio\n",
       "3  71263708835_10157689601593836  Confirmación de Intento de Suicidio\n",
       "4    71263708835_426911824739777  Confirmación de Intento de Suicidio"
      ]
     },
     "execution_count": 161,
     "metadata": {},
     "output_type": "execute_result"
    }
   ],
   "source": [
    "df_2.head()"
   ]
  },
  {
   "cell_type": "code",
   "execution_count": 162,
   "metadata": {},
   "outputs": [
    {
     "name": "stdout",
     "output_type": "stream",
     "text": [
      "<class 'pandas.core.frame.DataFrame'>\n",
      "RangeIndex: 87 entries, 0 to 86\n",
      "Data columns (total 2 columns):\n",
      " #   Column    Non-Null Count  Dtype \n",
      "---  ------    --------------  ----- \n",
      " 0   POST NRO  87 non-null     object\n",
      " 1   SUCESO    87 non-null     object\n",
      "dtypes: object(2)\n",
      "memory usage: 1.5+ KB\n"
     ]
    }
   ],
   "source": [
    "df_2.info()"
   ]
  },
  {
   "cell_type": "code",
   "execution_count": 163,
   "metadata": {},
   "outputs": [
    {
     "data": {
      "text/plain": [
       "87"
      ]
     },
     "execution_count": 163,
     "metadata": {},
     "output_type": "execute_result"
    }
   ],
   "source": [
    "df_1['id'].nunique()"
   ]
  },
  {
   "cell_type": "markdown",
   "metadata": {},
   "source": [
    "### Cleaning data"
   ]
  },
  {
   "cell_type": "code",
   "execution_count": 164,
   "metadata": {},
   "outputs": [],
   "source": [
    "# drop cols\n",
    "df_1.drop(columns=['created_time.2','created_time.1'],inplace=True)\n",
    "\n",
    "# merge the both datasets\n",
    "df = df_1.merge(df_2,how='left',left_on = 'id',right_on='POST NRO')\n",
    "\n",
    "# drop redundant cols\n",
    "df.drop(columns=['id','POST NRO'],inplace=True)"
   ]
  },
  {
   "cell_type": "code",
   "execution_count": 165,
   "metadata": {},
   "outputs": [],
   "source": [
    "# change the names of the columns\n",
    "df.columns = ['post','comment','datetime','context']\n",
    "\n",
    "# order the columns\n",
    "df = df[['datetime','context','post','comment']]"
   ]
  },
  {
   "cell_type": "code",
   "execution_count": 166,
   "metadata": {},
   "outputs": [],
   "source": [
    "# change the type of 'datetime'\n",
    "df['datetime'] = pd.to_datetime(df['datetime'],format='%d/%m/%Y %H:%M')"
   ]
  },
  {
   "cell_type": "code",
   "execution_count": 167,
   "metadata": {},
   "outputs": [
    {
     "data": {
      "text/plain": [
       "datetime    0\n",
       "context     0\n",
       "post        0\n",
       "comment     0\n",
       "dtype: int64"
      ]
     },
     "execution_count": 167,
     "metadata": {},
     "output_type": "execute_result"
    }
   ],
   "source": [
    "# check nan values\n",
    "df.isnull().sum()"
   ]
  },
  {
   "cell_type": "code",
   "execution_count": 168,
   "metadata": {},
   "outputs": [
    {
     "data": {
      "text/plain": [
       "np.int64(1444)"
      ]
     },
     "execution_count": 168,
     "metadata": {},
     "output_type": "execute_result"
    }
   ],
   "source": [
    "# check duplicated values\n",
    "df.duplicated().sum()"
   ]
  },
  {
   "cell_type": "code",
   "execution_count": 169,
   "metadata": {},
   "outputs": [],
   "source": [
    "# drop duplicated values\n",
    "df.drop_duplicates(inplace=True)"
   ]
  },
  {
   "cell_type": "code",
   "execution_count": 170,
   "metadata": {},
   "outputs": [],
   "source": [
    "# Reset index\n",
    "df.reset_index(drop=True, inplace=True)"
   ]
  },
  {
   "cell_type": "markdown",
   "metadata": {},
   "source": [
    "### Remove punctuation, stopwords and accents from text"
   ]
  },
  {
   "cell_type": "code",
   "execution_count": 171,
   "metadata": {},
   "outputs": [],
   "source": [
    "punct = string.punctuation\n",
    "df['comment'] = df['comment'].str.replace(f'[{punct}]','',regex=True).str.lower()"
   ]
  },
  {
   "cell_type": "code",
   "execution_count": 172,
   "metadata": {},
   "outputs": [],
   "source": [
    "def remove_stopwords(text):\n",
    "    words = text.split()\n",
    "    filtered_words = [word for word in words if word.lower() not in stop_words]\n",
    "    return ' '.join(filtered_words)\n",
    "\n",
    "df['comment'] = df['comment'].apply(remove_stopwords)"
   ]
  },
  {
   "cell_type": "code",
   "execution_count": 173,
   "metadata": {},
   "outputs": [],
   "source": [
    "import unicodedata\n",
    "\n",
    "def remove_accents(text):\n",
    "    text = unicodedata.normalize('NFKD', text)\n",
    "    text_without_accents = ''.join(c for c in text if not unicodedata.combining(c))\n",
    "    return text_without_accents\n",
    "\n",
    "df['comment'] = df['comment'].apply(remove_accents)"
   ]
  },
  {
   "cell_type": "markdown",
   "metadata": {},
   "source": [
    "### Create diccionary to replace the emojis"
   ]
  },
  {
   "cell_type": "code",
   "execution_count": 174,
   "metadata": {},
   "outputs": [],
   "source": [
    "emoji_to_spanish = {\n",
    "    \"‼\": \"sorpresa \",\n",
    "    \"⁉\": \"duda \",\n",
    "    \"☝\": \"alegria \",\n",
    "    \"☠\": \"peligro \",\n",
    "    \"☹\": \"tristeza \",\n",
    "    \"☺\": \"feliz \",\n",
    "    \"♥\": \"amor \",\n",
    "    \"⚖\": \"justicia \",\n",
    "    \"⚠\": \"advertencia \",\n",
    "    \"⛪\": \"iglesia \",\n",
    "    \"✅\": \"verificado \",\n",
    "    \"✈\": \"avión \",\n",
    "    \"✊\": \"ira \",\n",
    "    \"✋\": \"mano \",\n",
    "    \"✌\": \"felicidad \",\n",
    "    \"✍\": \"escribir \",\n",
    "    \"✔\": \"correcto \",\n",
    "    \"✨\": \"brillo \",\n",
    "    \"❌\": \"incorrecto \",\n",
    "    \"❎\": \"cancelado \",\n",
    "    \"❗\": \"exclamacion \",\n",
    "    \"⭐\": \"estrella \",\n",
    "    \"🐀\": \"ira \",\n",
    "    \"🐁\": \"ira \",\n",
    "    \"🐑\": \"oveja \",\n",
    "    \"🐖\": \"ira \",\n",
    "    \"🐭\": \"ira\",\n",
    "    \"🐷\": \"ira \",\n",
    "    \"👊\": \"puño \",\n",
    "    \"👋\": \"saludo \",\n",
    "    \"👌\": \"ok \",\n",
    "    \"👍\": \"aprobar \",\n",
    "    \"👎\": \"desaprobar \",\n",
    "    \"👏\": \"felicidad \",\n",
    "    \"👼\": \"angel \",\n",
    "    \"👿\": \"diablo \",\n",
    "    \"💀\": \"calavera \",\n",
    "    \"💓\": \"corazon\",\n",
    "    \"💔\": \"corazon roto \",\n",
    "    \"💕\": \"corazones \",\n",
    "    \"💖\": \"corazon \",\n",
    "    \"💗\": \"corazon \",\n",
    "    \"💘\": \"corazon \",\n",
    "    \"💚\": \"corazon \",\n",
    "    \"💜\": \"corazon \",\n",
    "    \"💣\": \"bomba \",\n",
    "    \"💤\": \"dormir \",\n",
    "    \"💥\": \"explosion \",\n",
    "    \"💩\": \"ira \",\n",
    "    \"💪\": \"fuerza \",\n",
    "    \"💫\": \"mareo \",\n",
    "    \"💭\": \"pensamiento \",\n",
    "    \"💯\": \"perfecto \",\n",
    "    \"💰\": \"dinero \",\n",
    "    \"💲\": \"dolar \",\n",
    "    \"🔐\": \"cerrado \",\n",
    "    \"🔥\": \"fuego \",\n",
    "    \"🖕\": \"ira \",\n",
    "    \"😀\": \"sonrisa \",\n",
    "    \"😁\": \"carcajada \",\n",
    "    \"😂\": \"risa \",\n",
    "    \"😃\": \"alegria \",\n",
    "    \"😄\": \"risa \",\n",
    "    \"😅\": \"alivio \",\n",
    "    \"😆\": \"risa \",\n",
    "    \"😇\": \"angel \",\n",
    "    \"😈\": \"ira \",\n",
    "    \"😉\": \"guiño \",\n",
    "    \"😊\": \"contento \",\n",
    "    \"😋\": \"sabroso \",\n",
    "    \"😌\": \"tranquilo \",\n",
    "    \"😍\": \"enamorado \",\n",
    "    \"😎\": \"cool \",\n",
    "    \"😏\": \"satisfecho \",\n",
    "    \"😐\": \"neutral \",\n",
    "    \"😑\": \"indiferente \",\n",
    "    \"😒\": \"decepcionado \",\n",
    "    \"😓\": \"sudor \",\n",
    "    \"😔\": \"pensativo \",\n",
    "    \"😕\": \"confuso \",\n",
    "    \"😖\": \"preocupado \",\n",
    "    \"😗\": \"beso \",\n",
    "    \"😘\": \"beso \",\n",
    "    \"😙\": \"beso \",\n",
    "    \"😚\": \"beso \",\n",
    "    \"😛\": \"alegria \",\n",
    "    \"😜\": \"alegria \",\n",
    "    \"😝\": \"alegria \",\n",
    "    \"😞\": \"tristeza \",\n",
    "    \"😟\": \"angustiado \",\n",
    "    \"😠\": \"enojado \",\n",
    "    \"😡\": \"furioso \",\n",
    "    \"😢\": \"llorar \",\n",
    "    \"😣\": \"perseverante \",\n",
    "    \"😤\": \"determinacin \",\n",
    "    \"😥\": \"aliviado \",\n",
    "    \"😦\": \"preocupacion \",\n",
    "    \"😧\": \"shock \",\n",
    "    \"😨\": \"temeroso \",\n",
    "    \"😩\": \"agotado \",\n",
    "    \"😪\": \"somnoliento \",\n",
    "    \"😫\": \"agotamiento \",\n",
    "    \"😬\": \"incomodo \",\n",
    "    \"😭\": \"llorar \",\n",
    "    \"😮\": \"sorpresa \",\n",
    "    \"😯\": \"silencio \",\n",
    "    \"😰\": \"ansiedad \",\n",
    "    \"😱\": \"grito \",\n",
    "    \"😲\": \"impactado \",\n",
    "    \"😳\": \"avergonzado \",\n",
    "    \"😴\": \"dormido \",\n",
    "    \"😵\": \"mareado \",\n",
    "    \"😶\": \"sin palabras \",\n",
    "    \"😷\": \"enfermo \",\n",
    "    \"😸\": \"gato feliz \",\n",
    "    \"😹\": \"gato risa \",\n",
    "    \"😼\": \"gato malicioso \",\n",
    "    \"😿\": \"gato triste \",\n",
    "    \"🙁\": \"decepcionado \",\n",
    "    \"🙂\": \"feliz \",\n",
    "    \"🙃\": \"descontento \",\n",
    "    \"🙄\": \"descontento \",\n",
    "    \"🙅\": \"prohibido \",\n",
    "    \"🙆\": \"ok \",\n",
    "    \"🙇\": \"reverencia \",\n",
    "    \"🙈\": \"no ver \",\n",
    "    \"🙉\": \"no escuchar \",\n",
    "    \"🙊\": \"no hablar \",\n",
    "    \"🙋\": \"mano alzada \",\n",
    "    \"🙌\": \"victoria \",\n",
    "    \"🙏\": \"felicidad \",\n",
    "    \"🚫\": \"prohibido \",\n",
    "    \"🤐\": \"silencio \",\n",
    "    \"🤑\": \"dinero \",\n",
    "    \"🤒\": \"enfermo \",\n",
    "    \"🤓\": \"nerd \",\n",
    "    \"🤔\": \"pensativo \",\n",
    "    \"🤕\": \"herido \",\n",
    "    \"🤗\": \"abrazo \",\n",
    "    \"🤘\": \"rock \",\n",
    "    \"🤞\": \"suerte \",\n",
    "    \"🤟\": \"amor \",\n",
    "    \"🤡\": \"payaso \",\n",
    "    \"🤢\": \"asco \",\n",
    "    \"🤣\": \"carcajada \",\n",
    "    \"🤤\": \"baba \",\n",
    "    \"🤥\": \"mentira \",\n",
    "    \"🤦\": \"frustracion \",\n",
    "    \"🤧\": \"estornudo \",\n",
    "    \"🤨\": \"sospecha \",\n",
    "    \"🤩\": \"estrellas \",\n",
    "    \"🤪\": \"loco \",\n",
    "    \"🤫\": \"secreto \",\n",
    "    \"🤬\": \"molesto \",\n",
    "    \"🤭\": \"sorpresa \",\n",
    "    \"🤮\": \"vomito \",\n",
    "    \"🤯\": \"impacto \",\n",
    "    \"🤶\": \"navidad \",\n",
    "    \"🤷\": \"duda \",\n",
    "    \"🤹\": \"malabarista \",\n",
    "    \"🥀\": \"flor muerta \",\n",
    "    \"🥂\": \"brindis \",\n",
    "    \"🥃\": \"trago \",\n",
    "    \"🥳\": \"celebracion \",\n",
    "    \"🥴\": \"mareado \",\n",
    "    \"🥵\": \"calor \",\n",
    "    \"🥶\": \"frio \",\n",
    "    \"🥺\": \"tristeza \",\n",
    "    \"🦊\": \"ira \",\n",
    "    \"🦸\": \"heroe \",\n",
    "    \"🧐\": \"curioso \",\n",
    "    \"🧠\": \"cerebro \",\n",
    "}"
   ]
  },
  {
   "cell_type": "markdown",
   "metadata": {},
   "source": [
    "### Functions to handle text and emojis"
   ]
  },
  {
   "cell_type": "code",
   "execution_count": 175,
   "metadata": {},
   "outputs": [],
   "source": [
    "def separate_text_from_emojis(text):\n",
    "    list_text_without_emojis = []\n",
    "    list_text_with_emojis = []\n",
    "    \n",
    "    for char in text:\n",
    "        if char not in emoji.EMOJI_DATA:\n",
    "            list_text_without_emojis.append(char)\n",
    "        else:\n",
    "            list_text_with_emojis.append(char)\n",
    "    return \"\".join(list_text_with_emojis), \"\".join(list_text_without_emojis)"
   ]
  },
  {
   "cell_type": "code",
   "execution_count": 176,
   "metadata": {},
   "outputs": [],
   "source": [
    "new_comment = df['comment'].apply(separate_text_from_emojis)\n",
    "\n",
    "emojis_in_comment, text_in_comment = [], []\n",
    "\n",
    "for a,b in new_comment:\n",
    "    emojis_in_comment.append(a)\n",
    "    text_in_comment.append(b)"
   ]
  },
  {
   "cell_type": "code",
   "execution_count": 177,
   "metadata": {},
   "outputs": [],
   "source": [
    "def translate_emojis_to_spanish(text):\n",
    "    if not isinstance(text, str):\n",
    "        return \"\"\n",
    "    \n",
    "    list_text = []\n",
    "    for char in text:\n",
    "        if char in emoji.EMOJI_DATA:\n",
    "            list_text.append(emoji_to_spanish.get(char, \"desconocido \"))\n",
    "        else:\n",
    "            list_text.append(char)\n",
    "    \n",
    "    return \"\".join(list_text)"
   ]
  },
  {
   "cell_type": "code",
   "execution_count": 178,
   "metadata": {},
   "outputs": [],
   "source": [
    "emojis_text = []\n",
    "\n",
    "for text in emojis_in_comment:\n",
    "    emojis_text.append(translate_emojis_to_spanish(text))"
   ]
  },
  {
   "cell_type": "code",
   "execution_count": 179,
   "metadata": {},
   "outputs": [],
   "source": [
    "text = []\n",
    "for text_1, text_2 in zip(text_in_comment, emojis_text):\n",
    "    text.append(text_1+ ' '+ text_2)"
   ]
  },
  {
   "cell_type": "code",
   "execution_count": 180,
   "metadata": {},
   "outputs": [],
   "source": [
    "df['new_comment'] = pd.Series(text)\n",
    "df['new_comment'] = df['new_comment'].apply(remove_accents)"
   ]
  },
  {
   "cell_type": "code",
   "execution_count": 181,
   "metadata": {},
   "outputs": [],
   "source": [
    "def drop_emojis(texto):\n",
    "    emojis = re.compile(\n",
    "        \"[\"                      # Rango de Unicode que incluye emojis\n",
    "        \"\\U0001F600-\\U0001F64F\"  # Emoticonos\n",
    "        \"\\U0001F300-\\U0001F5FF\"  # Símbolos y pictogramas misceláneos\n",
    "        \"\\U0001F680-\\U0001F6FF\"  # Transportes y símbolos relacionados\n",
    "        \"\\U0001F700-\\U0001F77F\"  # Alquimia\n",
    "        \"\\U0001F780-\\U0001F7FF\"  # Geometría\n",
    "        \"\\U0001F800-\\U0001F8FF\"  # Complemento\n",
    "        \"\\U0001F900-\\U0001F9FF\"  # Símbolos y pictogramas\n",
    "        \"\\U0001FA00-\\U0001FA6F\"  # Objetos misceláneos\n",
    "        \"\\U00002700-\\U000027BF\"  # Otros símbolos\n",
    "        \"\\U000024C2-\\U0001F251\"  # Símbolos adicionales\n",
    "        \"]\",\n",
    "        flags=re.UNICODE\n",
    "    )\n",
    "    return emojis.sub(r'', texto)"
   ]
  },
  {
   "cell_type": "code",
   "execution_count": 182,
   "metadata": {},
   "outputs": [],
   "source": [
    "df[\"new_comment\"] = df[\"new_comment\"].apply(drop_emojis)"
   ]
  },
  {
   "cell_type": "code",
   "execution_count": 183,
   "metadata": {},
   "outputs": [],
   "source": [
    "df[\"new_comment\"] = df[\"new_comment\"].str.strip()\n",
    "df[\"new_comment\"] = df[\"new_comment\"].str.replace(r'\\s+', ' ', regex=True)\n",
    "df[\"new_comment\"] = df[\"new_comment\"].replace(r'^[\\.\\s]*$', '', regex=True)"
   ]
  },
  {
   "cell_type": "code",
   "execution_count": 184,
   "metadata": {},
   "outputs": [],
   "source": [
    "df[\"new_comment\"] = df[\"new_comment\"].str.strip()\n",
    "df[\"new_comment\"] = df[\"new_comment\"].str.replace(r'\\s+', ' ', regex=True)\n",
    "df[\"new_comment\"] = df[\"new_comment\"].str.replace(r'^[\\.\\s]*$', '', regex=True)\n",
    "df[\"new_comment\"] = df[\"new_comment\"].str.replace(r'\\d+', '', regex=True)\n",
    "df[\"new_comment\"] = df[\"new_comment\"].str.replace('â€', '', regex=True)\n",
    "df[\"new_comment\"] = df[\"new_comment\"].str.replace('httpswwwfacebookcom202767666958515posts442078129694133appfbl', '', regex=True)\n",
    "df[\"new_comment\"] = df[\"new_comment\"].str.replace('httpsmfacebookcomstoryphpstoryfbidid', '', regex=True)\n",
    "\n",
    "df[\"new_comment\"] = df[\"new_comment\"].str.replace(\"habran\",\"abran \")\n",
    "df[\"new_comment\"] = df[\"new_comment\"].str.replace(\"ahora\",\"\")"
   ]
  },
  {
   "cell_type": "code",
   "execution_count": 185,
   "metadata": {},
   "outputs": [],
   "source": [
    "def clean_text(text):\n",
    "    words = text.split()\n",
    "    filtered_words = [\n",
    "        word for word in words\n",
    "        if word.lower() not in stop_words and len(word) > 2 and not word.lower().startswith('y')\n",
    "    ]\n",
    "    return ' '.join(filtered_words)"
   ]
  },
  {
   "cell_type": "code",
   "execution_count": 186,
   "metadata": {},
   "outputs": [],
   "source": [
    "df['new_comment'] = df['new_comment'].apply(clean_text)"
   ]
  },
  {
   "cell_type": "code",
   "execution_count": 187,
   "metadata": {},
   "outputs": [],
   "source": [
    "df.drop(df.loc[df[\"new_comment\"] == \"\"].index,inplace=True)"
   ]
  },
  {
   "cell_type": "code",
   "execution_count": 188,
   "metadata": {},
   "outputs": [],
   "source": [
    "df.reset_index(drop=True, inplace=True)"
   ]
  },
  {
   "cell_type": "markdown",
   "metadata": {},
   "source": [
    "### Sentimental Analysis"
   ]
  },
  {
   "cell_type": "code",
   "execution_count": 189,
   "metadata": {},
   "outputs": [],
   "source": [
    "lexicon = pd.read_csv('data/espaniol_NRC.csv', index_col='Spanish Word')\n",
    "lexicon.drop(columns=['anticipacion','positivo','confianza','negativo'], inplace=True)\n",
    "\n",
    "def feelings_in_text(text):\n",
    "    feelings_count = {col: 0 for col in lexicon.columns}\n",
    "    words = text.split()\n",
    "\n",
    "    for word in words:\n",
    "        if word in lexicon.index:\n",
    "            feeling_values = lexicon.loc[word].values\n",
    "            for i, value in enumerate(feeling_values):\n",
    "                feelings_count[lexicon.columns[i]] += value\n",
    "\n",
    "    feelings, count = sorted(feelings_count.items(), key=lambda item: item[1], reverse=True)[0]\n",
    "    if count == 0:\n",
    "        return 'neutral'\n",
    "    else:\n",
    "        return feelings"
   ]
  },
  {
   "cell_type": "code",
   "execution_count": 190,
   "metadata": {},
   "outputs": [],
   "source": [
    "df['sentiments'] = df['new_comment'].apply(feelings_in_text)"
   ]
  },
  {
   "cell_type": "code",
   "execution_count": 191,
   "metadata": {},
   "outputs": [],
   "source": [
    "df.drop(columns=['comment',],inplace=True)"
   ]
  },
  {
   "cell_type": "markdown",
   "metadata": {},
   "source": [
    "### Save data"
   ]
  },
  {
   "cell_type": "code",
   "execution_count": 192,
   "metadata": {},
   "outputs": [],
   "source": [
    "df.to_csv('data_clean.csv',index=False)"
   ]
  }
 ],
 "metadata": {
  "kernelspec": {
   "display_name": ".venv",
   "language": "python",
   "name": "python3"
  },
  "language_info": {
   "codemirror_mode": {
    "name": "ipython",
    "version": 3
   },
   "file_extension": ".py",
   "mimetype": "text/x-python",
   "name": "python",
   "nbconvert_exporter": "python",
   "pygments_lexer": "ipython3",
   "version": "3.11.9"
  }
 },
 "nbformat": 4,
 "nbformat_minor": 2
}
